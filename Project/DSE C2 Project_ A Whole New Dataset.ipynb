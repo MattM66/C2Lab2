{
 "cells": [
  {
   "cell_type": "markdown",
   "metadata": {
    "id": "r4a6I7O5A1Mn"
   },
   "source": [
    "# DSE Course 1 Project: Simple Regression and Exploratory Data Analysis\n",
    "\n",
    "**Instructor**: Wesley Beckner\n",
    "\n",
    "**Contact**: wesleybeckner@gmail.com\n",
    "\n",
    "<br>\n",
    "\n",
    "---\n",
    "\n",
    "<br>\n",
    "\n",
    "Our project task is to apply the tools we've learned so far on our own dataset. If you haven't a dataset in mind of your own, you may explore or choose from some that we suggest.\n",
    "\n",
    "<br>\n",
    "\n",
    "---\n",
    "\n",
    "<br>\n",
    "\n",
    "Data Repositories\n",
    "\n",
    "* [UC Irvine Machine Learning Repository](https://archive.ics.uci.edu/ml/datasets.php?format=&task=reg&att=&area=comp&numAtt=&numIns=&type=&sort=attUp&view=list)\n",
    "* [kaggle](https://www.kaggle.com/datasets)\n",
    "\n",
    "Datasets\n",
    "\n",
    "* [Condition Based Maintenance of Naval Propulsion Plants Data Set](http://archive.ics.uci.edu/ml/datasets/condition+based+maintenance+of+naval+propulsion+plants)\n",
    "* [Robot Execution Failures Data Set](https://archive.ics.uci.edu/ml/datasets/Robot+Execution+Failures)\n",
    "\n",
    "\n"
   ]
  },
  {
   "cell_type": "markdown",
   "metadata": {
    "id": "Sc6NOJwPEzBO"
   },
   "source": [
    "# Choosing a Dataset"
   ]
  },
  {
   "cell_type": "markdown",
   "metadata": {
    "id": "dNfLgTqqFSmS"
   },
   "source": [
    "## What should I be looking for?\n",
    "\n",
    "  * Size\n",
    "  * Missing Values\n",
    "  * Types of Features\n",
    "  * Relevance to Field\n",
    "  * Relevance to Domain Area Expertise"
   ]
  },
  {
   "cell_type": "markdown",
   "metadata": {
    "id": "HE6n32i6FUhm"
   },
   "source": [
    "# Objectives\n",
    "\n"
   ]
  },
  {
   "cell_type": "markdown",
   "metadata": {
    "id": "1sRiMc2kFXAE"
   },
   "source": [
    "## Exploratory Data Analysis and Statistical Inference\n",
    "\n",
    "So far we've introduced several programming tools to explore data:\n",
    "\n",
    "  * _pandas, numpy, matplotlib, seaborn, ipywidgets, statsmodel, scipy_\n",
    "\n",
    "We've also introduced several analysis techniques:\n",
    "\n",
    "  * _ANOVA, t-tests, f-tests, moods median, variance inflation factor_\n",
    "\n",
    "and plotting techniques:\n",
    "\n",
    "  * _boxplot, distributions, histograms, heatmaps, pairity plots_\n",
    "\n",
    "**In your project, include at least 2 tools form each of these bullets.**"
   ]
  },
  {
   "cell_type": "markdown",
   "metadata": {
    "id": "m81r6wrQFY9j"
   },
   "source": [
    "## Predictive Modeling\n",
    "\n",
    "We've introduced two modeling techniques, linear and logistic regression. You are welcome to push forward with other modeling techniques if you wish. But the idea here is to build a simple base model to compare with more advanced models we develop going forward\n",
    "\n",
    "Some tools to recall:\n",
    "\n",
    "  * univariate and multivariate linear and logistic regression\n",
    "  * binary and multiclass logistic regression\n",
    "\n",
    "for assessing goodness of fit:\n",
    "\n",
    "  * $MSE, R^2$ for regression\n",
    "  * Accuracy, F1, precision, and recall for classification\n",
    "\n",
    "Also common development strategies:\n",
    "\n",
    "  * splitting into training and testing datasets\n",
    "  * adding and removing features to improve performance\n",
    "\n",
    "**In your project, include a predictive modeling technique (either classification or regression depending on the dataset you choose)**\n",
    "\n",
    "<br>\n",
    "\n",
    "---"
   ]
  },
  {
   "cell_type": "markdown",
   "metadata": {
    "id": "oSngZLw2IlUA"
   },
   "source": [
    "# To Complete"
   ]
  },
  {
   "cell_type": "markdown",
   "metadata": {
    "id": "_q7OSjOZIpJW"
   },
   "source": [
    "<a name=\"prepare\"></a>\n",
    "## Preparing Environment and Importing Data\n",
    "[back to top](#top)"
   ]
  },
  {
   "cell_type": "markdown",
   "metadata": {
    "id": "81WD7XihIwdQ"
   },
   "source": [
    "<a name='packages'></a>\n",
    "### Import Packages\n",
    "[back to top](#top)\n",
    "\n",
    "Load libraries which will be needed in this Notebook\n",
    "\n"
   ]
  },
  {
   "cell_type": "code",
   "execution_count": 20,
   "metadata": {
    "colab": {
     "base_uri": "https://localhost:8080/"
    },
    "executionInfo": {
     "elapsed": 2841,
     "status": "ok",
     "timestamp": 1620928677559,
     "user": {
      "displayName": "Matt Mellin",
      "photoUrl": "https://lh3.googleusercontent.com/a-/AOh14GjLUHt5xYNazcwFGSUnXu1BfI0hbEROjIsVJdv28g=s64",
      "userId": "17386441217069995249"
     },
     "user_tz": 420
    },
    "id": "CqObXD7SIief",
    "outputId": "da09908e-d9ac-46aa-b4d1-0f9b80444b00"
   },
   "outputs": [],
   "source": [
    "# Pandas library for the pandas dataframes\n",
    "from copy import copy\n",
    "import pandas as pd\n",
    "import numpy as np\n",
    "import datetime\n",
    "import matplotlib.pyplot as plt\n",
    "import plotly.express as px\n",
    "import random\n",
    "import scipy.stats as stats\n",
    "from scipy.stats import skew, norm, probplot, boxcox, f_oneway, median_test\n",
    "import seaborn as sns\n",
    "from patsy import dmatrices\n",
    "from statsmodels.stats.outliers_influence import variance_inflation_factor\n",
    "import sklearn\n",
    "from sklearn.preprocessing import LabelEncoder, StandardScaler\n",
    "from sklearn.model_selection import train_test_split\n",
    "from sklearn.linear_model import LogisticRegression, LinearRegression\n",
    "from sklearn.metrics import mean_squared_error, r2_score\n",
    "from sklearn import metrics\n",
    "from ipywidgets import interact, widgets\n",
    "from statsmodels.formula.api import ols\n",
    "import statsmodels.api as sm"
   ]
  },
  {
   "cell_type": "markdown",
   "metadata": {
    "id": "qbtmgXyMIze4"
   },
   "source": [
    "<a name='dataset'></a>\n",
    "### Load Dataset\n",
    "[back to top](#top)\n"
   ]
  },
  {
   "cell_type": "code",
   "execution_count": 21,
   "metadata": {
    "colab": {
     "base_uri": "https://localhost:8080/"
    },
    "executionInfo": {
     "elapsed": 44341,
     "status": "ok",
     "timestamp": 1620928719070,
     "user": {
      "displayName": "Matt Mellin",
      "photoUrl": "https://lh3.googleusercontent.com/a-/AOh14GjLUHt5xYNazcwFGSUnXu1BfI0hbEROjIsVJdv28g=s64",
      "userId": "17386441217069995249"
     },
     "user_tz": 420
    },
    "id": "GnJ0QpHFzjuk",
    "outputId": "04e0f9c2-f725-41c8-d99b-d629292f450c"
   },
   "outputs": [],
   "source": [
    "# from google.colab import drive\n",
    "# drive.mount(\"/content/drive\")"
   ]
  },
  {
   "cell_type": "code",
   "execution_count": 22,
   "metadata": {
    "id": "LHgnyGLNH3I6"
   },
   "outputs": [],
   "source": [
    "df = pd.read_csv('C:/Users/Matth/Documents/GitHub/C2Lab2/Project/DSFE_Mellin/data/superconductivity.csv')\n",
    "\n",
    "# df = pd.read_csv('/content/drive/MyDrive/DSFE/C1 Build Your Base_Mellin/DataSets/superconductivity.csv')\n",
    "\n"
   ]
  },
  {
   "cell_type": "markdown",
   "metadata": {
    "id": "kBfYjGCCI12r"
   },
   "source": [
    "<a name='eda'></a>\n",
    "## Exploratory Data Analysis (EDA)\n",
    "[back to top](#top)"
   ]
  },
  {
   "cell_type": "code",
   "execution_count": 23,
   "metadata": {
    "colab": {
     "base_uri": "https://localhost:8080/"
    },
    "executionInfo": {
     "elapsed": 45972,
     "status": "ok",
     "timestamp": 1620928720706,
     "user": {
      "displayName": "Matt Mellin",
      "photoUrl": "https://lh3.googleusercontent.com/a-/AOh14GjLUHt5xYNazcwFGSUnXu1BfI0hbEROjIsVJdv28g=s64",
      "userId": "17386441217069995249"
     },
     "user_tz": 420
    },
    "id": "u11Lwd91N3rq",
    "outputId": "53779adf-ccbd-41e0-dd51-c3e3a20e98c6"
   },
   "outputs": [],
   "source": [
    "# from google.colab import drive\n",
    "# drive.mount('/content/drive')"
   ]
  },
  {
   "cell_type": "code",
   "execution_count": 24,
   "metadata": {
    "colab": {
     "base_uri": "https://localhost:8080/",
     "height": 349
    },
    "executionInfo": {
     "elapsed": 735,
     "status": "ok",
     "timestamp": 1620928955458,
     "user": {
      "displayName": "Matt Mellin",
      "photoUrl": "https://lh3.googleusercontent.com/a-/AOh14GjLUHt5xYNazcwFGSUnXu1BfI0hbEROjIsVJdv28g=s64",
      "userId": "17386441217069995249"
     },
     "user_tz": 420
    },
    "id": "QfuuVgXRI20c",
    "outputId": "3e3a3943-fa0c-488f-8798-f59415d289fb"
   },
   "outputs": [
    {
     "data": {
      "text/html": [
       "<div>\n",
       "<style scoped>\n",
       "    .dataframe tbody tr th:only-of-type {\n",
       "        vertical-align: middle;\n",
       "    }\n",
       "\n",
       "    .dataframe tbody tr th {\n",
       "        vertical-align: top;\n",
       "    }\n",
       "\n",
       "    .dataframe thead th {\n",
       "        text-align: right;\n",
       "    }\n",
       "</style>\n",
       "<table border=\"1\" class=\"dataframe\">\n",
       "  <thead>\n",
       "    <tr style=\"text-align: right;\">\n",
       "      <th></th>\n",
       "      <th>number_of_elements</th>\n",
       "      <th>mean_atomic_mass</th>\n",
       "      <th>wtd_mean_atomic_mass</th>\n",
       "      <th>gmean_atomic_mass</th>\n",
       "      <th>wtd_gmean_atomic_mass</th>\n",
       "      <th>entropy_atomic_mass</th>\n",
       "      <th>wtd_entropy_atomic_mass</th>\n",
       "      <th>range_atomic_mass</th>\n",
       "      <th>wtd_range_atomic_mass</th>\n",
       "      <th>std_atomic_mass</th>\n",
       "      <th>...</th>\n",
       "      <th>wtd_mean_Valence</th>\n",
       "      <th>gmean_Valence</th>\n",
       "      <th>wtd_gmean_Valence</th>\n",
       "      <th>entropy_Valence</th>\n",
       "      <th>wtd_entropy_Valence</th>\n",
       "      <th>range_Valence</th>\n",
       "      <th>wtd_range_Valence</th>\n",
       "      <th>std_Valence</th>\n",
       "      <th>wtd_std_Valence</th>\n",
       "      <th>critical_temp</th>\n",
       "    </tr>\n",
       "  </thead>\n",
       "  <tbody>\n",
       "    <tr>\n",
       "      <th>count</th>\n",
       "      <td>21263.000000</td>\n",
       "      <td>21263.000000</td>\n",
       "      <td>21263.000000</td>\n",
       "      <td>21263.000000</td>\n",
       "      <td>21263.000000</td>\n",
       "      <td>21263.000000</td>\n",
       "      <td>21263.000000</td>\n",
       "      <td>21263.000000</td>\n",
       "      <td>21263.000000</td>\n",
       "      <td>21263.000000</td>\n",
       "      <td>...</td>\n",
       "      <td>21263.000000</td>\n",
       "      <td>21263.000000</td>\n",
       "      <td>21263.000000</td>\n",
       "      <td>21263.000000</td>\n",
       "      <td>21263.000000</td>\n",
       "      <td>21263.000000</td>\n",
       "      <td>21263.000000</td>\n",
       "      <td>21263.000000</td>\n",
       "      <td>21263.000000</td>\n",
       "      <td>21263.000000</td>\n",
       "    </tr>\n",
       "    <tr>\n",
       "      <th>mean</th>\n",
       "      <td>4.115224</td>\n",
       "      <td>87.557631</td>\n",
       "      <td>72.988310</td>\n",
       "      <td>71.290627</td>\n",
       "      <td>58.539916</td>\n",
       "      <td>1.165608</td>\n",
       "      <td>1.063884</td>\n",
       "      <td>115.601251</td>\n",
       "      <td>33.225218</td>\n",
       "      <td>44.391893</td>\n",
       "      <td>...</td>\n",
       "      <td>3.153127</td>\n",
       "      <td>3.056536</td>\n",
       "      <td>3.055885</td>\n",
       "      <td>1.295682</td>\n",
       "      <td>1.052841</td>\n",
       "      <td>2.041010</td>\n",
       "      <td>1.483007</td>\n",
       "      <td>0.839342</td>\n",
       "      <td>0.673987</td>\n",
       "      <td>34.421219</td>\n",
       "    </tr>\n",
       "    <tr>\n",
       "      <th>std</th>\n",
       "      <td>1.439295</td>\n",
       "      <td>29.676497</td>\n",
       "      <td>33.490406</td>\n",
       "      <td>31.030272</td>\n",
       "      <td>36.651067</td>\n",
       "      <td>0.364930</td>\n",
       "      <td>0.401423</td>\n",
       "      <td>54.626887</td>\n",
       "      <td>26.967752</td>\n",
       "      <td>20.035430</td>\n",
       "      <td>...</td>\n",
       "      <td>1.191249</td>\n",
       "      <td>1.046257</td>\n",
       "      <td>1.174815</td>\n",
       "      <td>0.393155</td>\n",
       "      <td>0.380291</td>\n",
       "      <td>1.242345</td>\n",
       "      <td>0.978176</td>\n",
       "      <td>0.484676</td>\n",
       "      <td>0.455580</td>\n",
       "      <td>34.254362</td>\n",
       "    </tr>\n",
       "    <tr>\n",
       "      <th>min</th>\n",
       "      <td>1.000000</td>\n",
       "      <td>6.941000</td>\n",
       "      <td>6.423452</td>\n",
       "      <td>5.320573</td>\n",
       "      <td>1.960849</td>\n",
       "      <td>0.000000</td>\n",
       "      <td>0.000000</td>\n",
       "      <td>0.000000</td>\n",
       "      <td>0.000000</td>\n",
       "      <td>0.000000</td>\n",
       "      <td>...</td>\n",
       "      <td>1.000000</td>\n",
       "      <td>1.000000</td>\n",
       "      <td>1.000000</td>\n",
       "      <td>0.000000</td>\n",
       "      <td>0.000000</td>\n",
       "      <td>0.000000</td>\n",
       "      <td>0.000000</td>\n",
       "      <td>0.000000</td>\n",
       "      <td>0.000000</td>\n",
       "      <td>0.000210</td>\n",
       "    </tr>\n",
       "    <tr>\n",
       "      <th>25%</th>\n",
       "      <td>3.000000</td>\n",
       "      <td>72.458076</td>\n",
       "      <td>52.143839</td>\n",
       "      <td>58.041225</td>\n",
       "      <td>35.248990</td>\n",
       "      <td>0.966676</td>\n",
       "      <td>0.775363</td>\n",
       "      <td>78.512902</td>\n",
       "      <td>16.824174</td>\n",
       "      <td>32.890369</td>\n",
       "      <td>...</td>\n",
       "      <td>2.116732</td>\n",
       "      <td>2.279705</td>\n",
       "      <td>2.091251</td>\n",
       "      <td>1.060857</td>\n",
       "      <td>0.775678</td>\n",
       "      <td>1.000000</td>\n",
       "      <td>0.921454</td>\n",
       "      <td>0.451754</td>\n",
       "      <td>0.306892</td>\n",
       "      <td>5.365000</td>\n",
       "    </tr>\n",
       "    <tr>\n",
       "      <th>50%</th>\n",
       "      <td>4.000000</td>\n",
       "      <td>84.922750</td>\n",
       "      <td>60.696571</td>\n",
       "      <td>66.361592</td>\n",
       "      <td>39.918385</td>\n",
       "      <td>1.199541</td>\n",
       "      <td>1.146783</td>\n",
       "      <td>122.906070</td>\n",
       "      <td>26.636008</td>\n",
       "      <td>45.123500</td>\n",
       "      <td>...</td>\n",
       "      <td>2.618182</td>\n",
       "      <td>2.615321</td>\n",
       "      <td>2.434057</td>\n",
       "      <td>1.368922</td>\n",
       "      <td>1.166532</td>\n",
       "      <td>2.000000</td>\n",
       "      <td>1.063077</td>\n",
       "      <td>0.800000</td>\n",
       "      <td>0.500000</td>\n",
       "      <td>20.000000</td>\n",
       "    </tr>\n",
       "    <tr>\n",
       "      <th>75%</th>\n",
       "      <td>5.000000</td>\n",
       "      <td>100.404410</td>\n",
       "      <td>86.103540</td>\n",
       "      <td>78.116681</td>\n",
       "      <td>73.113234</td>\n",
       "      <td>1.444537</td>\n",
       "      <td>1.359418</td>\n",
       "      <td>154.119320</td>\n",
       "      <td>38.356908</td>\n",
       "      <td>59.322812</td>\n",
       "      <td>...</td>\n",
       "      <td>4.026201</td>\n",
       "      <td>3.727919</td>\n",
       "      <td>3.914868</td>\n",
       "      <td>1.589027</td>\n",
       "      <td>1.330801</td>\n",
       "      <td>3.000000</td>\n",
       "      <td>1.918400</td>\n",
       "      <td>1.200000</td>\n",
       "      <td>1.020436</td>\n",
       "      <td>63.000000</td>\n",
       "    </tr>\n",
       "    <tr>\n",
       "      <th>max</th>\n",
       "      <td>9.000000</td>\n",
       "      <td>208.980400</td>\n",
       "      <td>208.980400</td>\n",
       "      <td>208.980400</td>\n",
       "      <td>208.980400</td>\n",
       "      <td>1.983797</td>\n",
       "      <td>1.958203</td>\n",
       "      <td>207.972460</td>\n",
       "      <td>205.589910</td>\n",
       "      <td>101.019700</td>\n",
       "      <td>...</td>\n",
       "      <td>7.000000</td>\n",
       "      <td>7.000000</td>\n",
       "      <td>7.000000</td>\n",
       "      <td>2.141963</td>\n",
       "      <td>1.949739</td>\n",
       "      <td>6.000000</td>\n",
       "      <td>6.992200</td>\n",
       "      <td>3.000000</td>\n",
       "      <td>3.000000</td>\n",
       "      <td>185.000000</td>\n",
       "    </tr>\n",
       "  </tbody>\n",
       "</table>\n",
       "<p>8 rows × 82 columns</p>\n",
       "</div>"
      ],
      "text/plain": [
       "       number_of_elements  mean_atomic_mass  wtd_mean_atomic_mass  \\\n",
       "count        21263.000000      21263.000000          21263.000000   \n",
       "mean             4.115224         87.557631             72.988310   \n",
       "std              1.439295         29.676497             33.490406   \n",
       "min              1.000000          6.941000              6.423452   \n",
       "25%              3.000000         72.458076             52.143839   \n",
       "50%              4.000000         84.922750             60.696571   \n",
       "75%              5.000000        100.404410             86.103540   \n",
       "max              9.000000        208.980400            208.980400   \n",
       "\n",
       "       gmean_atomic_mass  wtd_gmean_atomic_mass  entropy_atomic_mass  \\\n",
       "count       21263.000000           21263.000000         21263.000000   \n",
       "mean           71.290627              58.539916             1.165608   \n",
       "std            31.030272              36.651067             0.364930   \n",
       "min             5.320573               1.960849             0.000000   \n",
       "25%            58.041225              35.248990             0.966676   \n",
       "50%            66.361592              39.918385             1.199541   \n",
       "75%            78.116681              73.113234             1.444537   \n",
       "max           208.980400             208.980400             1.983797   \n",
       "\n",
       "       wtd_entropy_atomic_mass  range_atomic_mass  wtd_range_atomic_mass  \\\n",
       "count             21263.000000       21263.000000           21263.000000   \n",
       "mean                  1.063884         115.601251              33.225218   \n",
       "std                   0.401423          54.626887              26.967752   \n",
       "min                   0.000000           0.000000               0.000000   \n",
       "25%                   0.775363          78.512902              16.824174   \n",
       "50%                   1.146783         122.906070              26.636008   \n",
       "75%                   1.359418         154.119320              38.356908   \n",
       "max                   1.958203         207.972460             205.589910   \n",
       "\n",
       "       std_atomic_mass  ...  wtd_mean_Valence  gmean_Valence  \\\n",
       "count     21263.000000  ...      21263.000000   21263.000000   \n",
       "mean         44.391893  ...          3.153127       3.056536   \n",
       "std          20.035430  ...          1.191249       1.046257   \n",
       "min           0.000000  ...          1.000000       1.000000   \n",
       "25%          32.890369  ...          2.116732       2.279705   \n",
       "50%          45.123500  ...          2.618182       2.615321   \n",
       "75%          59.322812  ...          4.026201       3.727919   \n",
       "max         101.019700  ...          7.000000       7.000000   \n",
       "\n",
       "       wtd_gmean_Valence  entropy_Valence  wtd_entropy_Valence  range_Valence  \\\n",
       "count       21263.000000     21263.000000         21263.000000   21263.000000   \n",
       "mean            3.055885         1.295682             1.052841       2.041010   \n",
       "std             1.174815         0.393155             0.380291       1.242345   \n",
       "min             1.000000         0.000000             0.000000       0.000000   \n",
       "25%             2.091251         1.060857             0.775678       1.000000   \n",
       "50%             2.434057         1.368922             1.166532       2.000000   \n",
       "75%             3.914868         1.589027             1.330801       3.000000   \n",
       "max             7.000000         2.141963             1.949739       6.000000   \n",
       "\n",
       "       wtd_range_Valence   std_Valence  wtd_std_Valence  critical_temp  \n",
       "count       21263.000000  21263.000000     21263.000000   21263.000000  \n",
       "mean            1.483007      0.839342         0.673987      34.421219  \n",
       "std             0.978176      0.484676         0.455580      34.254362  \n",
       "min             0.000000      0.000000         0.000000       0.000210  \n",
       "25%             0.921454      0.451754         0.306892       5.365000  \n",
       "50%             1.063077      0.800000         0.500000      20.000000  \n",
       "75%             1.918400      1.200000         1.020436      63.000000  \n",
       "max             6.992200      3.000000         3.000000     185.000000  \n",
       "\n",
       "[8 rows x 82 columns]"
      ]
     },
     "execution_count": 24,
     "metadata": {},
     "output_type": "execute_result"
    }
   ],
   "source": [
    "df.describe()\n",
    "# len(df)"
   ]
  },
  {
   "cell_type": "code",
   "execution_count": 25,
   "metadata": {
    "id": "11bdCPtx30wC"
   },
   "outputs": [],
   "source": [
    "# dff = df.corr()['critical_temp']\n",
    "# pear = abs(pear.sort_values(ascending=False))\n",
    "# pear\n",
    "def desc(df, group=None, target=None):\n",
    "  \"\"\"\n",
    "  there should be a docstring!!!\n",
    "  \"\"\"\n",
    "  if group == None:\n",
    "    skew = df.skew()\n",
    "    kurt = df.kurtosis()\n",
    "    pear = df.corr()['critical_temp']\n",
    "    spear = df.corr('spearman')['critical_temp']\n",
    "    null = df.isnull().sum()\n",
    "    med = df.median()\n",
    "\n",
    "    dff = pd.DataFrame([skew, kurt, pear, spear, med])\n",
    "    dff = dff.T\n",
    "    dff.columns = ['skew', 'kurtosis', 'pearsons_ct', 'spearman_ct', 'median']\n",
    "  else:\n",
    "    dff = pd.DataFrame()\n",
    "    for cat in df[group].unique():\n",
    "      subdf = df.loc[mydf[group] == cat]\n",
    "      subdf = subdf.drop([group],axis=1)\n",
    "      skew = subdf.skew()\n",
    "      kurt = subdf.kurtosis()\n",
    "      pear = subdf.corr()['critical_temp']\n",
    "      spear = subdf.corr('spearman')['critical_temp']\n",
    "      null = subdf.isnull().sum()\n",
    "      med = subdf.median()\n",
    "\n",
    "      dfff = pd.DataFrame([skew, kurt, pear, spear, med])\n",
    "      dfff = dfff.T\n",
    "      dfff.columns = ['skew', 'kurtosis', 'pearsons ct', 'spearman ct', 'median']\n",
    "      arrays = [[cat]*len(list(dfff.index)),list(dfff.index.values)]\n",
    "      tuples = list(zip(*arrays))\n",
    "      index = pd.MultiIndex.from_tuples(tuples, names=[group, \"feature\"])\n",
    "      dfff.index = index\n",
    "      dff = pd.concat([dff, dfff])\n",
    "  return dff\n",
    "  # desc(df)\n"
   ]
  },
  {
   "cell_type": "code",
   "execution_count": 26,
   "metadata": {
    "colab": {
     "base_uri": "https://localhost:8080/"
    },
    "executionInfo": {
     "elapsed": 47796,
     "status": "ok",
     "timestamp": 1620928722536,
     "user": {
      "displayName": "Matt Mellin",
      "photoUrl": "https://lh3.googleusercontent.com/a-/AOh14GjLUHt5xYNazcwFGSUnXu1BfI0hbEROjIsVJdv28g=s64",
      "userId": "17386441217069995249"
     },
     "user_tz": 420
    },
    "id": "8A0QwxzO_lBn",
    "outputId": "f53f2810-86ca-4657-c809-23d3dd848293"
   },
   "outputs": [
    {
     "data": {
      "text/plain": [
       "number_of_elements       0.601069\n",
       "mean_atomic_mass        -0.113523\n",
       "wtd_mean_atomic_mass    -0.312272\n",
       "gmean_atomic_mass       -0.230345\n",
       "wtd_gmean_atomic_mass   -0.369858\n",
       "                           ...   \n",
       "range_Valence           -0.143546\n",
       "wtd_range_Valence       -0.439901\n",
       "std_Valence             -0.208072\n",
       "wtd_std_Valence         -0.300028\n",
       "critical_temp            1.000000\n",
       "Name: pearsons_ct, Length: 82, dtype: float64"
      ]
     },
     "execution_count": 26,
     "metadata": {},
     "output_type": "execute_result"
    }
   ],
   "source": [
    "statsdf = pd.DataFrame(desc(df))\n",
    "statsdf['pearsons_ct']"
   ]
  },
  {
   "cell_type": "code",
   "execution_count": 27,
   "metadata": {
    "colab": {
     "base_uri": "https://localhost:8080/",
     "height": 488
    },
    "executionInfo": {
     "elapsed": 49142,
     "status": "ok",
     "timestamp": 1620928723883,
     "user": {
      "displayName": "Matt Mellin",
      "photoUrl": "https://lh3.googleusercontent.com/a-/AOh14GjLUHt5xYNazcwFGSUnXu1BfI0hbEROjIsVJdv28g=s64",
      "userId": "17386441217069995249"
     },
     "user_tz": 420
    },
    "id": "0zVsiO7fKeJ1",
    "outputId": "31daf1d3-a218-47d0-b54e-82d0c81ac2bf"
   },
   "outputs": [
    {
     "data": {
      "text/plain": [
       "wtd_std_ThermalConductivity    0.721271\n",
       "range_ThermalConductivity      0.687654\n",
       "range_atomic_radius            0.653759\n",
       "std_ThermalConductivity        0.653632\n",
       "wtd_entropy_atomic_mass        0.626930\n",
       "                                 ...   \n",
       "gmean_Density                 -0.541684\n",
       "gmean_Valence                 -0.573068\n",
       "mean_Valence                  -0.600085\n",
       "wtd_gmean_Valence             -0.615653\n",
       "wtd_mean_Valence              -0.632401\n",
       "Name: pearsons_ct, Length: 81, dtype: float64"
      ]
     },
     "execution_count": 27,
     "metadata": {},
     "output_type": "execute_result"
    },
    {
     "data": {
      "image/png": "[encoded data removed]",
      "text/plain": [
       "<Figure size 432x288 with 1 Axes>"
      ]
     },
     "metadata": {
      "needs_background": "light"
     },
     "output_type": "display_data"
    }
   ],
   "source": [
    "vals = statsdf['pearsons_ct'].values\n",
    "pears_sorted = statsdf.sort_values('pearsons_ct',ascending=False)\n",
    "pears_sorted2 = pears_sorted.drop(labels='critical_temp', axis=0)\n",
    "plt.plot(pears_sorted2['pearsons_ct'])\n",
    "pears_sorted2['pearsons_ct']"
   ]
  },
  {
   "cell_type": "code",
   "execution_count": 28,
   "metadata": {
    "colab": {
     "base_uri": "https://localhost:8080/",
     "height": 284
    },
    "executionInfo": {
     "elapsed": 1760,
     "status": "ok",
     "timestamp": 1620929051620,
     "user": {
      "displayName": "Matt Mellin",
      "photoUrl": "https://lh3.googleusercontent.com/a-/AOh14GjLUHt5xYNazcwFGSUnXu1BfI0hbEROjIsVJdv28g=s64",
      "userId": "17386441217069995249"
     },
     "user_tz": 420
    },
    "id": "ufu4w7MbNSkr",
    "outputId": "c2d2535a-62e3-4a0a-9ebd-c8fc03915454"
   },
   "outputs": [
    {
     "data": {
      "text/plain": [
       "[<matplotlib.lines.Line2D at 0x1f2ab3a96a0>]"
      ]
     },
     "execution_count": 28,
     "metadata": {},
     "output_type": "execute_result"
    },
    {
     "data": {
      "image/png": "[encoded data removed]",
      "text/plain": [
       "<Figure size 432x288 with 1 Axes>"
      ]
     },
     "metadata": {
      "needs_background": "light"
     },
     "output_type": "display_data"
    }
   ],
   "source": [
    "test_vars = []\n",
    "pears_abs = abs(statsdf['pearsons_ct'])\n",
    "pears_abs2 = pears_abs.drop(labels='critical_temp', axis=0)\n",
    "all_pears = pears_abs2.sort_values(axis=0, ascending=False)\n",
    "# type(all_pears)\n",
    "all_pears\n",
    "plt.plot(all_pears, marker='.', ls='')\n",
    "#Goal is to get an approximation of how many of the large number\n",
    "#of variables have a reasonaby high Pearson's correlation"
   ]
  },
  {
   "cell_type": "code",
   "execution_count": 29,
   "metadata": {
    "colab": {
     "base_uri": "https://localhost:8080/"
    },
    "executionInfo": {
     "elapsed": 51589,
     "status": "ok",
     "timestamp": 1620928726333,
     "user": {
      "displayName": "Matt Mellin",
      "photoUrl": "https://lh3.googleusercontent.com/a-/AOh14GjLUHt5xYNazcwFGSUnXu1BfI0hbEROjIsVJdv28g=s64",
      "userId": "17386441217069995249"
     },
     "user_tz": 420
    },
    "id": "eXBAqtpVVTPn",
    "outputId": "ae6c37ea-9e79-4169-9055-f7fcf8d84d93"
   },
   "outputs": [
    {
     "name": "stdout",
     "output_type": "stream",
     "text": [
      "0\n",
      "81\n",
      "35\n",
      "['wtd_std_ThermalConductivity', 'range_ThermalConductivity', 'range_atomic_radius', 'std_ThermalConductivity', 'wtd_mean_Valence', 'wtd_entropy_atomic_mass', 'wtd_gmean_Valence', 'wtd_entropy_atomic_radius', 'number_of_elements', 'range_fie', 'mean_Valence', 'wtd_std_atomic_radius', 'entropy_Valence', 'wtd_entropy_Valence', 'wtd_std_fie', 'gmean_Valence', 'entropy_fie', 'wtd_entropy_FusionHeat', 'std_atomic_radius', 'entropy_atomic_radius', 'entropy_FusionHeat', 'entropy_atomic_mass', 'std_fie', 'gmean_Density', 'wtd_gmean_Density', 'range_atomic_mass', 'wtd_range_ThermalConductivity', 'entropy_Density', 'wtd_range_Valence', 'entropy_ElectronAffinity', 'wtd_mean_Density', 'wtd_gmean_FusionHeat', 'gmean_FusionHeat', 'wtd_gmean_atomic_radius', 'wtd_entropy_Density']\n"
     ]
    }
   ],
   "source": [
    "test_vars = []\n",
    "print(len(test_vars))\n",
    "print(len(all_pears))\n",
    "# for i in all_pears:\n",
    "#   if all_pears[i] > 0.4:\n",
    "#     test_vars.append(all_pears.index[i])\n",
    "x = all_pears.ge(0.4)\n",
    "type(x)\n",
    "X = pd.concat([all_pears,x], axis=1)\n",
    "X\n",
    "q = -1\n",
    "for i in all_pears:\n",
    "  q += 1\n",
    "  if i > 0.4:\n",
    "    test_vars.append(all_pears.index[q])\n",
    "\n",
    "print(len(test_vars))\n",
    "print(test_vars)\n",
    "# all_pears.index[1]"
   ]
  },
  {
   "cell_type": "markdown",
   "metadata": {
    "id": "NyM2bqwhI50T"
   },
   "source": [
    "<a name='statistics'></a>\n",
    "### Descriptive Statistics\n",
    "[back to top](#top)"
   ]
  },
  {
   "cell_type": "code",
   "execution_count": 30,
   "metadata": {
    "id": "tIpJNzlII60t"
   },
   "outputs": [],
   "source": [
    "def VIF(df, test_vars):\n",
    "  #Add intercept for Ordinary Least Squares regression in stat models\n",
    "  Y = df[test_vars].assign(constant=1)\n",
    "  \n",
    "  #Calculate VIFs\n",
    "  vif = pd.DataFrame()\n",
    "  vif['VIF Factor'] = [variance_inflation_factor(Y.values, i) for i in range (Y.shape[1])]\n",
    "  vif[\"features\"] = Y.columns\n",
    "  return vif.iloc[:-1].sort_values(\"VIF Factor\") "
   ]
  },
  {
   "cell_type": "code",
   "execution_count": 31,
   "metadata": {
    "colab": {
     "base_uri": "https://localhost:8080/",
     "height": 1000
    },
    "executionInfo": {
     "elapsed": 52591,
     "status": "ok",
     "timestamp": 1620928727338,
     "user": {
      "displayName": "Matt Mellin",
      "photoUrl": "https://lh3.googleusercontent.com/a-/AOh14GjLUHt5xYNazcwFGSUnXu1BfI0hbEROjIsVJdv28g=s64",
      "userId": "17386441217069995249"
     },
     "user_tz": 420
    },
    "id": "wy_V0IScSSuI",
    "outputId": "1efe8545-c264-4a89-a372-d0bf14499d27"
   },
   "outputs": [
    {
     "data": {
      "text/html": [
       "<div>\n",
       "<style scoped>\n",
       "    .dataframe tbody tr th:only-of-type {\n",
       "        vertical-align: middle;\n",
       "    }\n",
       "\n",
       "    .dataframe tbody tr th {\n",
       "        vertical-align: top;\n",
       "    }\n",
       "\n",
       "    .dataframe thead th {\n",
       "        text-align: right;\n",
       "    }\n",
       "</style>\n",
       "<table border=\"1\" class=\"dataframe\">\n",
       "  <thead>\n",
       "    <tr style=\"text-align: right;\">\n",
       "      <th></th>\n",
       "      <th>VIF Factor</th>\n",
       "      <th>features</th>\n",
       "    </tr>\n",
       "  </thead>\n",
       "  <tbody>\n",
       "    <tr>\n",
       "      <th>26</th>\n",
       "      <td>4.167221</td>\n",
       "      <td>wtd_range_ThermalConductivity</td>\n",
       "    </tr>\n",
       "    <tr>\n",
       "      <th>25</th>\n",
       "      <td>6.612003</td>\n",
       "      <td>range_atomic_mass</td>\n",
       "    </tr>\n",
       "    <tr>\n",
       "      <th>28</th>\n",
       "      <td>6.940455</td>\n",
       "      <td>wtd_range_Valence</td>\n",
       "    </tr>\n",
       "    <tr>\n",
       "      <th>29</th>\n",
       "      <td>7.487150</td>\n",
       "      <td>entropy_ElectronAffinity</td>\n",
       "    </tr>\n",
       "    <tr>\n",
       "      <th>33</th>\n",
       "      <td>9.028876</td>\n",
       "      <td>wtd_gmean_atomic_radius</td>\n",
       "    </tr>\n",
       "    <tr>\n",
       "      <th>32</th>\n",
       "      <td>9.551335</td>\n",
       "      <td>gmean_FusionHeat</td>\n",
       "    </tr>\n",
       "    <tr>\n",
       "      <th>31</th>\n",
       "      <td>10.349068</td>\n",
       "      <td>wtd_gmean_FusionHeat</td>\n",
       "    </tr>\n",
       "    <tr>\n",
       "      <th>17</th>\n",
       "      <td>15.749815</td>\n",
       "      <td>wtd_entropy_FusionHeat</td>\n",
       "    </tr>\n",
       "    <tr>\n",
       "      <th>34</th>\n",
       "      <td>18.849615</td>\n",
       "      <td>wtd_entropy_Density</td>\n",
       "    </tr>\n",
       "    <tr>\n",
       "      <th>20</th>\n",
       "      <td>23.885841</td>\n",
       "      <td>entropy_FusionHeat</td>\n",
       "    </tr>\n",
       "    <tr>\n",
       "      <th>23</th>\n",
       "      <td>24.113243</td>\n",
       "      <td>gmean_Density</td>\n",
       "    </tr>\n",
       "    <tr>\n",
       "      <th>30</th>\n",
       "      <td>31.942817</td>\n",
       "      <td>wtd_mean_Density</td>\n",
       "    </tr>\n",
       "    <tr>\n",
       "      <th>27</th>\n",
       "      <td>32.709748</td>\n",
       "      <td>entropy_Density</td>\n",
       "    </tr>\n",
       "    <tr>\n",
       "      <th>0</th>\n",
       "      <td>36.578810</td>\n",
       "      <td>wtd_std_ThermalConductivity</td>\n",
       "    </tr>\n",
       "    <tr>\n",
       "      <th>5</th>\n",
       "      <td>41.125018</td>\n",
       "      <td>wtd_entropy_atomic_mass</td>\n",
       "    </tr>\n",
       "    <tr>\n",
       "      <th>8</th>\n",
       "      <td>56.907696</td>\n",
       "      <td>number_of_elements</td>\n",
       "    </tr>\n",
       "    <tr>\n",
       "      <th>11</th>\n",
       "      <td>58.124616</td>\n",
       "      <td>wtd_std_atomic_radius</td>\n",
       "    </tr>\n",
       "    <tr>\n",
       "      <th>14</th>\n",
       "      <td>63.541311</td>\n",
       "      <td>wtd_std_fie</td>\n",
       "    </tr>\n",
       "    <tr>\n",
       "      <th>24</th>\n",
       "      <td>65.479640</td>\n",
       "      <td>wtd_gmean_Density</td>\n",
       "    </tr>\n",
       "    <tr>\n",
       "      <th>13</th>\n",
       "      <td>69.464338</td>\n",
       "      <td>wtd_entropy_Valence</td>\n",
       "    </tr>\n",
       "    <tr>\n",
       "      <th>21</th>\n",
       "      <td>81.295659</td>\n",
       "      <td>entropy_atomic_mass</td>\n",
       "    </tr>\n",
       "    <tr>\n",
       "      <th>7</th>\n",
       "      <td>91.456989</td>\n",
       "      <td>wtd_entropy_atomic_radius</td>\n",
       "    </tr>\n",
       "    <tr>\n",
       "      <th>18</th>\n",
       "      <td>116.898474</td>\n",
       "      <td>std_atomic_radius</td>\n",
       "    </tr>\n",
       "    <tr>\n",
       "      <th>2</th>\n",
       "      <td>117.390266</td>\n",
       "      <td>range_atomic_radius</td>\n",
       "    </tr>\n",
       "    <tr>\n",
       "      <th>3</th>\n",
       "      <td>163.089151</td>\n",
       "      <td>std_ThermalConductivity</td>\n",
       "    </tr>\n",
       "    <tr>\n",
       "      <th>9</th>\n",
       "      <td>184.864641</td>\n",
       "      <td>range_fie</td>\n",
       "    </tr>\n",
       "    <tr>\n",
       "      <th>22</th>\n",
       "      <td>185.479904</td>\n",
       "      <td>std_fie</td>\n",
       "    </tr>\n",
       "    <tr>\n",
       "      <th>1</th>\n",
       "      <td>228.544724</td>\n",
       "      <td>range_ThermalConductivity</td>\n",
       "    </tr>\n",
       "    <tr>\n",
       "      <th>6</th>\n",
       "      <td>614.026885</td>\n",
       "      <td>wtd_gmean_Valence</td>\n",
       "    </tr>\n",
       "    <tr>\n",
       "      <th>4</th>\n",
       "      <td>643.062773</td>\n",
       "      <td>wtd_mean_Valence</td>\n",
       "    </tr>\n",
       "    <tr>\n",
       "      <th>15</th>\n",
       "      <td>872.809994</td>\n",
       "      <td>gmean_Valence</td>\n",
       "    </tr>\n",
       "    <tr>\n",
       "      <th>10</th>\n",
       "      <td>887.986316</td>\n",
       "      <td>mean_Valence</td>\n",
       "    </tr>\n",
       "    <tr>\n",
       "      <th>12</th>\n",
       "      <td>1016.280648</td>\n",
       "      <td>entropy_Valence</td>\n",
       "    </tr>\n",
       "    <tr>\n",
       "      <th>19</th>\n",
       "      <td>1493.296927</td>\n",
       "      <td>entropy_atomic_radius</td>\n",
       "    </tr>\n",
       "    <tr>\n",
       "      <th>16</th>\n",
       "      <td>1868.510066</td>\n",
       "      <td>entropy_fie</td>\n",
       "    </tr>\n",
       "  </tbody>\n",
       "</table>\n",
       "</div>"
      ],
      "text/plain": [
       "     VIF Factor                       features\n",
       "26     4.167221  wtd_range_ThermalConductivity\n",
       "25     6.612003              range_atomic_mass\n",
       "28     6.940455              wtd_range_Valence\n",
       "29     7.487150       entropy_ElectronAffinity\n",
       "33     9.028876        wtd_gmean_atomic_radius\n",
       "32     9.551335               gmean_FusionHeat\n",
       "31    10.349068           wtd_gmean_FusionHeat\n",
       "17    15.749815         wtd_entropy_FusionHeat\n",
       "34    18.849615            wtd_entropy_Density\n",
       "20    23.885841             entropy_FusionHeat\n",
       "23    24.113243                  gmean_Density\n",
       "30    31.942817               wtd_mean_Density\n",
       "27    32.709748                entropy_Density\n",
       "0     36.578810    wtd_std_ThermalConductivity\n",
       "5     41.125018        wtd_entropy_atomic_mass\n",
       "8     56.907696             number_of_elements\n",
       "11    58.124616          wtd_std_atomic_radius\n",
       "14    63.541311                    wtd_std_fie\n",
       "24    65.479640              wtd_gmean_Density\n",
       "13    69.464338            wtd_entropy_Valence\n",
       "21    81.295659            entropy_atomic_mass\n",
       "7     91.456989      wtd_entropy_atomic_radius\n",
       "18   116.898474              std_atomic_radius\n",
       "2    117.390266            range_atomic_radius\n",
       "3    163.089151        std_ThermalConductivity\n",
       "9    184.864641                      range_fie\n",
       "22   185.479904                        std_fie\n",
       "1    228.544724      range_ThermalConductivity\n",
       "6    614.026885              wtd_gmean_Valence\n",
       "4    643.062773               wtd_mean_Valence\n",
       "15   872.809994                  gmean_Valence\n",
       "10   887.986316                   mean_Valence\n",
       "12  1016.280648                entropy_Valence\n",
       "19  1493.296927          entropy_atomic_radius\n",
       "16  1868.510066                    entropy_fie"
      ]
     },
     "execution_count": 31,
     "metadata": {},
     "output_type": "execute_result"
    }
   ],
   "source": [
    "A = VIF(df, test_vars)\n",
    "A"
   ]
  },
  {
   "cell_type": "code",
   "execution_count": 32,
   "metadata": {
    "colab": {
     "base_uri": "https://localhost:8080/",
     "height": 394
    },
    "executionInfo": {
     "elapsed": 116981,
     "status": "ok",
     "timestamp": 1620928791730,
     "user": {
      "displayName": "Matt Mellin",
      "photoUrl": "https://lh3.googleusercontent.com/a-/AOh14GjLUHt5xYNazcwFGSUnXu1BfI0hbEROjIsVJdv28g=s64",
      "userId": "17386441217069995249"
     },
     "user_tz": 420
    },
    "id": "ERK2b-2dYLxS",
    "outputId": "d0188aa3-6ea1-486d-dc84-26e518a66c55"
   },
   "outputs": [
    {
     "data": {
      "text/html": [
       "<div>\n",
       "<style scoped>\n",
       "    .dataframe tbody tr th:only-of-type {\n",
       "        vertical-align: middle;\n",
       "    }\n",
       "\n",
       "    .dataframe tbody tr th {\n",
       "        vertical-align: top;\n",
       "    }\n",
       "\n",
       "    .dataframe thead th {\n",
       "        text-align: right;\n",
       "    }\n",
       "</style>\n",
       "<table border=\"1\" class=\"dataframe\">\n",
       "  <thead>\n",
       "    <tr style=\"text-align: right;\">\n",
       "      <th></th>\n",
       "      <th>VIF Factor</th>\n",
       "      <th>features</th>\n",
       "    </tr>\n",
       "  </thead>\n",
       "  <tbody>\n",
       "    <tr>\n",
       "      <th>5</th>\n",
       "      <td>1.707195</td>\n",
       "      <td>wtd_range_Valence</td>\n",
       "    </tr>\n",
       "    <tr>\n",
       "      <th>8</th>\n",
       "      <td>1.775101</td>\n",
       "      <td>gmean_FusionHeat</td>\n",
       "    </tr>\n",
       "    <tr>\n",
       "      <th>4</th>\n",
       "      <td>2.053621</td>\n",
       "      <td>wtd_range_ThermalConductivity</td>\n",
       "    </tr>\n",
       "    <tr>\n",
       "      <th>3</th>\n",
       "      <td>2.255358</td>\n",
       "      <td>range_atomic_mass</td>\n",
       "    </tr>\n",
       "    <tr>\n",
       "      <th>10</th>\n",
       "      <td>2.833221</td>\n",
       "      <td>wtd_entropy_Density</td>\n",
       "    </tr>\n",
       "    <tr>\n",
       "      <th>0</th>\n",
       "      <td>3.274232</td>\n",
       "      <td>std_ThermalConductivity</td>\n",
       "    </tr>\n",
       "    <tr>\n",
       "      <th>6</th>\n",
       "      <td>3.329200</td>\n",
       "      <td>entropy_ElectronAffinity</td>\n",
       "    </tr>\n",
       "    <tr>\n",
       "      <th>9</th>\n",
       "      <td>3.515913</td>\n",
       "      <td>wtd_gmean_atomic_radius</td>\n",
       "    </tr>\n",
       "    <tr>\n",
       "      <th>2</th>\n",
       "      <td>3.671127</td>\n",
       "      <td>std_atomic_radius</td>\n",
       "    </tr>\n",
       "    <tr>\n",
       "      <th>1</th>\n",
       "      <td>3.751238</td>\n",
       "      <td>gmean_Valence</td>\n",
       "    </tr>\n",
       "    <tr>\n",
       "      <th>7</th>\n",
       "      <td>3.759946</td>\n",
       "      <td>wtd_mean_Density</td>\n",
       "    </tr>\n",
       "  </tbody>\n",
       "</table>\n",
       "</div>"
      ],
      "text/plain": [
       "    VIF Factor                       features\n",
       "5     1.707195              wtd_range_Valence\n",
       "8     1.775101               gmean_FusionHeat\n",
       "4     2.053621  wtd_range_ThermalConductivity\n",
       "3     2.255358              range_atomic_mass\n",
       "10    2.833221            wtd_entropy_Density\n",
       "0     3.274232        std_ThermalConductivity\n",
       "6     3.329200       entropy_ElectronAffinity\n",
       "9     3.515913        wtd_gmean_atomic_radius\n",
       "2     3.671127              std_atomic_radius\n",
       "1     3.751238                  gmean_Valence\n",
       "7     3.759946               wtd_mean_Density"
      ]
     },
     "execution_count": 32,
     "metadata": {},
     "output_type": "execute_result"
    }
   ],
   "source": [
    "#Let's systematically remove variables with high VIF until the max VIF \n",
    "#is less than 5\n",
    "subf = copy(test_vars)\n",
    "for feature in df:\n",
    "  VIF(df, subf)\n",
    "  if VIF(df, subf)['VIF Factor'].iloc[-1] >= 5:\n",
    "    b = VIF(df, subf)['features'].iloc[-1]\n",
    "    subf.remove(b)\n",
    "  else:\n",
    "    c = VIF(df, subf)\n",
    "    break\n",
    "c"
   ]
  },
  {
   "cell_type": "markdown",
   "metadata": {
    "id": "Cu3Io91SI8cb"
   },
   "source": [
    "<a name='infer'></a>\n",
    "### Inferential Statistics\n",
    "\n",
    "[back to top](#top)"
   ]
  },
  {
   "cell_type": "code",
   "execution_count": 33,
   "metadata": {
    "colab": {
     "base_uri": "https://localhost:8080/"
    },
    "executionInfo": {
     "elapsed": 116981,
     "status": "ok",
     "timestamp": 1620928791731,
     "user": {
      "displayName": "Matt Mellin",
      "photoUrl": "https://lh3.googleusercontent.com/a-/AOh14GjLUHt5xYNazcwFGSUnXu1BfI0hbEROjIsVJdv28g=s64",
      "userId": "17386441217069995249"
     },
     "user_tz": 420
    },
    "id": "pDGXcavMI9pe",
    "outputId": "1026d676-9f33-453a-885d-b2814e7bbda3"
   },
   "outputs": [
    {
     "name": "stdout",
     "output_type": "stream",
     "text": [
      "The perasons chi-square test statistic: 15908.40\n",
      "p-value of the test: 0.000\n",
      "the grand median: 4.0\n"
     ]
    }
   ],
   "source": [
    "#Perform inferential statistics on the variables with low VIF Factor\n",
    "Inf_df = df.filter(items=c['features'])\n",
    "# Inf_df.drop(labels = 'wtd_range_Valence', axis = 1)\n",
    "#Perform Moods Median Test on gmean_FusionHeat versus gmean_Valence\n",
    "stat, p, m, table = stats.median_test(Inf_df['gmean_FusionHeat'], Inf_df['gmean_Valence'], correction=False)\n",
    "print(\"The perasons chi-square test statistic: {:.2f}\".format(stat))\n",
    "print(\"p-value of the test: {:.3f}\".format(p))\n",
    "print(\"the grand median: {}\".format(m))"
   ]
  },
  {
   "cell_type": "markdown",
   "metadata": {
    "id": "dPtUEXfaI_sT"
   },
   "source": [
    "<a name='modeling'></a>\n",
    "## Modeling\n",
    "[back to top](#top)"
   ]
  },
  {
   "cell_type": "code",
   "execution_count": 34,
   "metadata": {
    "colab": {
     "base_uri": "https://localhost:8080/",
     "height": 432
    },
    "executionInfo": {
     "elapsed": 117463,
     "status": "ok",
     "timestamp": 1620928792215,
     "user": {
      "displayName": "Matt Mellin",
      "photoUrl": "https://lh3.googleusercontent.com/a-/AOh14GjLUHt5xYNazcwFGSUnXu1BfI0hbEROjIsVJdv28g=s64",
      "userId": "17386441217069995249"
     },
     "user_tz": 420
    },
    "id": "3pWErqTSJBK7",
    "outputId": "29d72873-9cb1-4234-e69b-c1f89fd0cb9f"
   },
   "outputs": [
    {
     "name": "stdout",
     "output_type": "stream",
     "text": [
      "Fit coefficients: \n",
      " [-2.54566177e+00 -1.53927681e-01  1.20333393e-01  9.76739617e-02\n",
      "  1.51364678e+01  1.81698240e-01 -1.42534161e+01  1.47893002e-01\n",
      "  2.27424863e-01 -3.86771216e+00 -1.04930837e-03] \n",
      "Number of coefficients: 11\n",
      "Mean squared error: 529.06\n",
      "Coefficient of determination: 0.54\n"
     ]
    },
    {
     "data": {
      "image/png": "[encoded data removed]",
      "text/plain": [
       "<Figure size 432x288 with 1 Axes>"
      ]
     },
     "metadata": {
      "needs_background": "light"
     },
     "output_type": "display_data"
    }
   ],
   "source": [
    "#Fit a Linear regression for the fatures to critical temp\n",
    "X_train, X_test, y_train, y_test = train_test_split(Inf_df, df['critical_temp'], test_size=0.20, random_state=42)\n",
    "regr = sklearn.linear_model.LinearRegression()\n",
    "regr.fit(X_train,y_train)\n",
    "y_pred = regr.predict(X_test)\n",
    "print(\"Fit coefficients: \\n\", regr.coef_, \"\\nNumber of coefficients:\", len(regr.coef_))\n",
    "print('Mean squared error: %.2f' % mean_squared_error(y_test, regr.predict(X_test)))\n",
    "print('Coefficient of determination: %.2f' % r2_score(y_test, regr.predict(X_test)))\n",
    "# Scatterplot\n",
    "sns.scatterplot(x=regr.predict(X_test),y=y_test, color=\"cornflowerblue\", s=50)\n",
    "plt.title(\"Linear regression - computed values on entire data set\", fontsize=16)\n",
    "plt.xlabel(\"y$^{\\sf calc}$\")\n",
    "plt.ylabel(\"y$^{\\sf true}$\")\n",
    "plt.show()\n"
   ]
  }
 ],
 "metadata": {
  "colab": {
   "name": "DSE C1 Project_ A Whole New Dataset.ipynb",
   "provenance": [],
   "toc_visible": true
  },
  "kernelspec": {
   "display_name": "Python 3",
   "language": "python",
   "name": "python3"
  },
  "language_info": {
   "codemirror_mode": {
    "name": "ipython",
    "version": 3
   },
   "file_extension": ".py",
   "mimetype": "text/x-python",
   "name": "python",
   "nbconvert_exporter": "python",
   "pygments_lexer": "ipython3",
   "version": "3.9.5"
  }
 },
 "nbformat": 4,
 "nbformat_minor": 4
}
